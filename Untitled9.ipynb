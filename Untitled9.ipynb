{
  "nbformat": 4,
  "nbformat_minor": 0,
  "metadata": {
    "colab": {
      "name": "Untitled9.ipynb",
      "provenance": [],
      "toc_visible": true,
      "authorship_tag": "ABX9TyNZUSDYD/6ijmVgK59SzLDe",
      "include_colab_link": true
    },
    "kernelspec": {
      "name": "python3",
      "display_name": "Python 3"
    }
  },
  "cells": [
    {
      "cell_type": "markdown",
      "metadata": {
        "id": "view-in-github",
        "colab_type": "text"
      },
      "source": [
        "<a href=\"https://colab.research.google.com/github/19pa1a0481/A-I/blob/master/Untitled9.ipynb\" target=\"_parent\"><img src=\"https://colab.research.google.com/assets/colab-badge.svg\" alt=\"Open In Colab\"/></a>"
      ]
    },
    {
      "cell_type": "markdown",
      "metadata": {
        "id": "jPnkZ6EKmNJI",
        "colab_type": "text"
      },
      "source": [
        "\n",
        "\n",
        "##              **svm** **assignment**\n",
        "\n",
        "\n",
        "  \n",
        "\n"
      ]
    },
    {
      "cell_type": "code",
      "metadata": {
        "id": "rQ8Z2I7axr8H",
        "colab_type": "code",
        "colab": {}
      },
      "source": [
        "import pandas as pd # for handling data in the form of tables\n",
        "import numpy as np # For handling matrix\n",
        "from sklearn.model_selection import train_test_split # For spliting the data into train and test\n",
        "from sklearn import metrics # for calculation of accuracy and precision\n",
        "from sklearn.metrics import confusion_matrix #\n",
        "from sklearn import svm \n"
      ],
      "execution_count": 0,
      "outputs": []
    },
    {
      "cell_type": "code",
      "metadata": {
        "id": "4PB1bRMzx5_c",
        "colab_type": "code",
        "outputId": "19c51f6b-7ca3-4030-dd0a-35eceab21773",
        "colab": {
          "base_uri": "https://localhost:8080/",
          "height": 419
        }
      },
      "source": [
        "ipl=pd.read_csv(\"Iris.csv\")\n",
        "ipl"
      ],
      "execution_count": 2,
      "outputs": [
        {
          "output_type": "execute_result",
          "data": {
            "text/html": [
              "<div>\n",
              "<style scoped>\n",
              "    .dataframe tbody tr th:only-of-type {\n",
              "        vertical-align: middle;\n",
              "    }\n",
              "\n",
              "    .dataframe tbody tr th {\n",
              "        vertical-align: top;\n",
              "    }\n",
              "\n",
              "    .dataframe thead th {\n",
              "        text-align: right;\n",
              "    }\n",
              "</style>\n",
              "<table border=\"1\" class=\"dataframe\">\n",
              "  <thead>\n",
              "    <tr style=\"text-align: right;\">\n",
              "      <th></th>\n",
              "      <th>Id</th>\n",
              "      <th>SepalLengthCm</th>\n",
              "      <th>SepalWidthCm</th>\n",
              "      <th>PetalLengthCm</th>\n",
              "      <th>PetalWidthCm</th>\n",
              "      <th>Species</th>\n",
              "    </tr>\n",
              "  </thead>\n",
              "  <tbody>\n",
              "    <tr>\n",
              "      <th>0</th>\n",
              "      <td>1</td>\n",
              "      <td>5.1</td>\n",
              "      <td>3.5</td>\n",
              "      <td>1.4</td>\n",
              "      <td>0.2</td>\n",
              "      <td>Iris-setosa</td>\n",
              "    </tr>\n",
              "    <tr>\n",
              "      <th>1</th>\n",
              "      <td>2</td>\n",
              "      <td>4.9</td>\n",
              "      <td>3.0</td>\n",
              "      <td>1.4</td>\n",
              "      <td>0.2</td>\n",
              "      <td>Iris-setosa</td>\n",
              "    </tr>\n",
              "    <tr>\n",
              "      <th>2</th>\n",
              "      <td>3</td>\n",
              "      <td>4.7</td>\n",
              "      <td>3.2</td>\n",
              "      <td>1.3</td>\n",
              "      <td>0.2</td>\n",
              "      <td>Iris-setosa</td>\n",
              "    </tr>\n",
              "    <tr>\n",
              "      <th>3</th>\n",
              "      <td>4</td>\n",
              "      <td>4.6</td>\n",
              "      <td>3.1</td>\n",
              "      <td>1.5</td>\n",
              "      <td>0.2</td>\n",
              "      <td>Iris-setosa</td>\n",
              "    </tr>\n",
              "    <tr>\n",
              "      <th>4</th>\n",
              "      <td>5</td>\n",
              "      <td>5.0</td>\n",
              "      <td>3.6</td>\n",
              "      <td>1.4</td>\n",
              "      <td>0.2</td>\n",
              "      <td>Iris-setosa</td>\n",
              "    </tr>\n",
              "    <tr>\n",
              "      <th>...</th>\n",
              "      <td>...</td>\n",
              "      <td>...</td>\n",
              "      <td>...</td>\n",
              "      <td>...</td>\n",
              "      <td>...</td>\n",
              "      <td>...</td>\n",
              "    </tr>\n",
              "    <tr>\n",
              "      <th>145</th>\n",
              "      <td>146</td>\n",
              "      <td>6.7</td>\n",
              "      <td>3.0</td>\n",
              "      <td>5.2</td>\n",
              "      <td>2.3</td>\n",
              "      <td>Iris-virginica</td>\n",
              "    </tr>\n",
              "    <tr>\n",
              "      <th>146</th>\n",
              "      <td>147</td>\n",
              "      <td>6.3</td>\n",
              "      <td>2.5</td>\n",
              "      <td>5.0</td>\n",
              "      <td>1.9</td>\n",
              "      <td>Iris-virginica</td>\n",
              "    </tr>\n",
              "    <tr>\n",
              "      <th>147</th>\n",
              "      <td>148</td>\n",
              "      <td>6.5</td>\n",
              "      <td>3.0</td>\n",
              "      <td>5.2</td>\n",
              "      <td>2.0</td>\n",
              "      <td>Iris-virginica</td>\n",
              "    </tr>\n",
              "    <tr>\n",
              "      <th>148</th>\n",
              "      <td>149</td>\n",
              "      <td>6.2</td>\n",
              "      <td>3.4</td>\n",
              "      <td>5.4</td>\n",
              "      <td>2.3</td>\n",
              "      <td>Iris-virginica</td>\n",
              "    </tr>\n",
              "    <tr>\n",
              "      <th>149</th>\n",
              "      <td>150</td>\n",
              "      <td>5.9</td>\n",
              "      <td>3.0</td>\n",
              "      <td>5.1</td>\n",
              "      <td>1.8</td>\n",
              "      <td>Iris-virginica</td>\n",
              "    </tr>\n",
              "  </tbody>\n",
              "</table>\n",
              "<p>150 rows × 6 columns</p>\n",
              "</div>"
            ],
            "text/plain": [
              "      Id  SepalLengthCm  ...  PetalWidthCm         Species\n",
              "0      1            5.1  ...           0.2     Iris-setosa\n",
              "1      2            4.9  ...           0.2     Iris-setosa\n",
              "2      3            4.7  ...           0.2     Iris-setosa\n",
              "3      4            4.6  ...           0.2     Iris-setosa\n",
              "4      5            5.0  ...           0.2     Iris-setosa\n",
              "..   ...            ...  ...           ...             ...\n",
              "145  146            6.7  ...           2.3  Iris-virginica\n",
              "146  147            6.3  ...           1.9  Iris-virginica\n",
              "147  148            6.5  ...           2.0  Iris-virginica\n",
              "148  149            6.2  ...           2.3  Iris-virginica\n",
              "149  150            5.9  ...           1.8  Iris-virginica\n",
              "\n",
              "[150 rows x 6 columns]"
            ]
          },
          "metadata": {
            "tags": []
          },
          "execution_count": 2
        }
      ]
    },
    {
      "cell_type": "code",
      "metadata": {
        "id": "SGM_C1jSyX9e",
        "colab_type": "code",
        "outputId": "e081c134-7c48-4aef-d20f-3d17e2255432",
        "colab": {
          "base_uri": "https://localhost:8080/",
          "height": 136
        }
      },
      "source": [
        "print(ipl.dtypes)# datatypes of features"
      ],
      "execution_count": 3,
      "outputs": [
        {
          "output_type": "stream",
          "text": [
            "Id                 int64\n",
            "SepalLengthCm    float64\n",
            "SepalWidthCm     float64\n",
            "PetalLengthCm    float64\n",
            "PetalWidthCm     float64\n",
            "Species           object\n",
            "dtype: object\n"
          ],
          "name": "stdout"
        }
      ]
    },
    {
      "cell_type": "code",
      "metadata": {
        "id": "lptSodAPy42l",
        "colab_type": "code",
        "outputId": "974206a7-f6c1-472a-99ba-c4d4e772690c",
        "colab": {
          "base_uri": "https://localhost:8080/",
          "height": 390
        }
      },
      "source": [
        "ipl.describe(include=\"all\")# to study  all stastics summary of features\n"
      ],
      "execution_count": 4,
      "outputs": [
        {
          "output_type": "execute_result",
          "data": {
            "text/html": [
              "<div>\n",
              "<style scoped>\n",
              "    .dataframe tbody tr th:only-of-type {\n",
              "        vertical-align: middle;\n",
              "    }\n",
              "\n",
              "    .dataframe tbody tr th {\n",
              "        vertical-align: top;\n",
              "    }\n",
              "\n",
              "    .dataframe thead th {\n",
              "        text-align: right;\n",
              "    }\n",
              "</style>\n",
              "<table border=\"1\" class=\"dataframe\">\n",
              "  <thead>\n",
              "    <tr style=\"text-align: right;\">\n",
              "      <th></th>\n",
              "      <th>Id</th>\n",
              "      <th>SepalLengthCm</th>\n",
              "      <th>SepalWidthCm</th>\n",
              "      <th>PetalLengthCm</th>\n",
              "      <th>PetalWidthCm</th>\n",
              "      <th>Species</th>\n",
              "    </tr>\n",
              "  </thead>\n",
              "  <tbody>\n",
              "    <tr>\n",
              "      <th>count</th>\n",
              "      <td>150.000000</td>\n",
              "      <td>150.000000</td>\n",
              "      <td>150.000000</td>\n",
              "      <td>150.000000</td>\n",
              "      <td>150.000000</td>\n",
              "      <td>150</td>\n",
              "    </tr>\n",
              "    <tr>\n",
              "      <th>unique</th>\n",
              "      <td>NaN</td>\n",
              "      <td>NaN</td>\n",
              "      <td>NaN</td>\n",
              "      <td>NaN</td>\n",
              "      <td>NaN</td>\n",
              "      <td>3</td>\n",
              "    </tr>\n",
              "    <tr>\n",
              "      <th>top</th>\n",
              "      <td>NaN</td>\n",
              "      <td>NaN</td>\n",
              "      <td>NaN</td>\n",
              "      <td>NaN</td>\n",
              "      <td>NaN</td>\n",
              "      <td>Iris-virginica</td>\n",
              "    </tr>\n",
              "    <tr>\n",
              "      <th>freq</th>\n",
              "      <td>NaN</td>\n",
              "      <td>NaN</td>\n",
              "      <td>NaN</td>\n",
              "      <td>NaN</td>\n",
              "      <td>NaN</td>\n",
              "      <td>50</td>\n",
              "    </tr>\n",
              "    <tr>\n",
              "      <th>mean</th>\n",
              "      <td>75.500000</td>\n",
              "      <td>5.843333</td>\n",
              "      <td>3.054000</td>\n",
              "      <td>3.758667</td>\n",
              "      <td>1.198667</td>\n",
              "      <td>NaN</td>\n",
              "    </tr>\n",
              "    <tr>\n",
              "      <th>std</th>\n",
              "      <td>43.445368</td>\n",
              "      <td>0.828066</td>\n",
              "      <td>0.433594</td>\n",
              "      <td>1.764420</td>\n",
              "      <td>0.763161</td>\n",
              "      <td>NaN</td>\n",
              "    </tr>\n",
              "    <tr>\n",
              "      <th>min</th>\n",
              "      <td>1.000000</td>\n",
              "      <td>4.300000</td>\n",
              "      <td>2.000000</td>\n",
              "      <td>1.000000</td>\n",
              "      <td>0.100000</td>\n",
              "      <td>NaN</td>\n",
              "    </tr>\n",
              "    <tr>\n",
              "      <th>25%</th>\n",
              "      <td>38.250000</td>\n",
              "      <td>5.100000</td>\n",
              "      <td>2.800000</td>\n",
              "      <td>1.600000</td>\n",
              "      <td>0.300000</td>\n",
              "      <td>NaN</td>\n",
              "    </tr>\n",
              "    <tr>\n",
              "      <th>50%</th>\n",
              "      <td>75.500000</td>\n",
              "      <td>5.800000</td>\n",
              "      <td>3.000000</td>\n",
              "      <td>4.350000</td>\n",
              "      <td>1.300000</td>\n",
              "      <td>NaN</td>\n",
              "    </tr>\n",
              "    <tr>\n",
              "      <th>75%</th>\n",
              "      <td>112.750000</td>\n",
              "      <td>6.400000</td>\n",
              "      <td>3.300000</td>\n",
              "      <td>5.100000</td>\n",
              "      <td>1.800000</td>\n",
              "      <td>NaN</td>\n",
              "    </tr>\n",
              "    <tr>\n",
              "      <th>max</th>\n",
              "      <td>150.000000</td>\n",
              "      <td>7.900000</td>\n",
              "      <td>4.400000</td>\n",
              "      <td>6.900000</td>\n",
              "      <td>2.500000</td>\n",
              "      <td>NaN</td>\n",
              "    </tr>\n",
              "  </tbody>\n",
              "</table>\n",
              "</div>"
            ],
            "text/plain": [
              "                Id  SepalLengthCm  ...  PetalWidthCm         Species\n",
              "count   150.000000     150.000000  ...    150.000000             150\n",
              "unique         NaN            NaN  ...           NaN               3\n",
              "top            NaN            NaN  ...           NaN  Iris-virginica\n",
              "freq           NaN            NaN  ...           NaN              50\n",
              "mean     75.500000       5.843333  ...      1.198667             NaN\n",
              "std      43.445368       0.828066  ...      0.763161             NaN\n",
              "min       1.000000       4.300000  ...      0.100000             NaN\n",
              "25%      38.250000       5.100000  ...      0.300000             NaN\n",
              "50%      75.500000       5.800000  ...      1.300000             NaN\n",
              "75%     112.750000       6.400000  ...      1.800000             NaN\n",
              "max     150.000000       7.900000  ...      2.500000             NaN\n",
              "\n",
              "[11 rows x 6 columns]"
            ]
          },
          "metadata": {
            "tags": []
          },
          "execution_count": 4
        }
      ]
    },
    {
      "cell_type": "code",
      "metadata": {
        "id": "MwIQdwD-y_gJ",
        "colab_type": "code",
        "outputId": "608084fc-0074-4e66-c5f4-28e35a8f8beb",
        "colab": {
          "base_uri": "https://localhost:8080/",
          "height": 136
        }
      },
      "source": [
        "ipl.isna().any() # to find NA's"
      ],
      "execution_count": 5,
      "outputs": [
        {
          "output_type": "execute_result",
          "data": {
            "text/plain": [
              "Id               False\n",
              "SepalLengthCm    False\n",
              "SepalWidthCm     False\n",
              "PetalLengthCm    False\n",
              "PetalWidthCm     False\n",
              "Species          False\n",
              "dtype: bool"
            ]
          },
          "metadata": {
            "tags": []
          },
          "execution_count": 5
        }
      ]
    },
    {
      "cell_type": "code",
      "metadata": {
        "id": "dNVk-DNOrZSf",
        "colab_type": "code",
        "outputId": "b0d78fe4-fd7f-459b-9e64-f02b11d0c75f",
        "colab": {
          "base_uri": "https://localhost:8080/",
          "height": 68
        }
      },
      "source": [
        "print(\"Features: \", ipl.columns)# features name in dataset\n",
        "\n"
      ],
      "execution_count": 6,
      "outputs": [
        {
          "output_type": "stream",
          "text": [
            "Features:  Index(['Id', 'SepalLengthCm', 'SepalWidthCm', 'PetalLengthCm', 'PetalWidthCm',\n",
            "       'Species'],\n",
            "      dtype='object')\n"
          ],
          "name": "stdout"
        }
      ]
    },
    {
      "cell_type": "code",
      "metadata": {
        "id": "bRb0M_Xgqep5",
        "colab_type": "code",
        "colab": {}
      },
      "source": [
        "X = ipl[['PetalLengthCm','PetalWidthCm','SepalLengthCm','SepalWidthCm']].values #selection of features\n",
        "\n",
        "y= ipl['Species'].values# selsction of targetvariables"
      ],
      "execution_count": 0,
      "outputs": []
    },
    {
      "cell_type": "code",
      "metadata": {
        "id": "DE1pb5bc4KME",
        "colab_type": "code",
        "colab": {}
      },
      "source": [
        "X_train, X_test, y_train, y_test = train_test_split(X, y,test_size=0.2, random_state=42) #spillting of data into train and test parts"
      ],
      "execution_count": 0,
      "outputs": []
    },
    {
      "cell_type": "code",
      "metadata": {
        "id": "IWpH7xaS8hXV",
        "colab_type": "code",
        "outputId": "b72f93fb-cecb-4ac9-f8b9-dc6459ecfa1f",
        "colab": {
          "base_uri": "https://localhost:8080/",
          "height": 1000
        }
      },
      "source": [
        "print(X_train)\n",
        "print(y_train)\n",
        "print(X_test)\n",
        "print(y_test)"
      ],
      "execution_count": 9,
      "outputs": [
        {
          "output_type": "stream",
          "text": [
            "[[1.  0.2 4.6 3.6]\n",
            " [1.5 0.4 5.7 4.4]\n",
            " [4.4 1.4 6.7 3.1]\n",
            " [1.6 0.2 4.8 3.4]\n",
            " [1.3 0.2 4.4 3.2]\n",
            " [5.  1.9 6.3 2.5]\n",
            " [4.5 1.5 6.4 3.2]\n",
            " [1.5 0.2 5.2 3.5]\n",
            " [1.4 0.2 5.  3.6]\n",
            " [1.5 0.1 5.2 4.1]\n",
            " [5.1 1.9 5.8 2.7]\n",
            " [4.5 1.6 6.  3.4]\n",
            " [4.7 1.5 6.7 3.1]\n",
            " [1.3 0.4 5.4 3.9]\n",
            " [1.5 0.2 5.4 3.7]\n",
            " [3.7 1.  5.5 2.4]\n",
            " [5.1 1.5 6.3 2.8]\n",
            " [5.5 1.8 6.4 3.1]\n",
            " [4.4 1.4 6.6 3. ]\n",
            " [6.1 2.5 7.2 3.6]\n",
            " [4.2 1.3 5.7 2.9]\n",
            " [6.6 2.1 7.6 3. ]\n",
            " [4.5 1.5 5.6 3. ]\n",
            " [1.4 0.2 5.1 3.5]\n",
            " [6.7 2.  7.7 2.8]\n",
            " [4.1 1.  5.8 2.7]\n",
            " [1.4 0.2 5.2 3.4]\n",
            " [1.3 0.3 5.  3.5]\n",
            " [1.9 0.4 5.1 3.8]\n",
            " [3.5 1.  5.  2. ]\n",
            " [4.9 1.8 6.3 2.7]\n",
            " [1.9 0.2 4.8 3.4]\n",
            " [1.6 0.2 5.  3. ]\n",
            " [1.7 0.5 5.1 3.3]\n",
            " [4.2 1.3 5.6 2.7]\n",
            " [1.5 0.2 5.1 3.4]\n",
            " [4.2 1.2 5.7 3. ]\n",
            " [6.7 2.2 7.7 3.8]\n",
            " [1.4 0.2 4.6 3.2]\n",
            " [4.3 1.3 6.2 2.9]\n",
            " [5.  2.  5.7 2.5]\n",
            " [1.4 0.2 5.5 4.2]\n",
            " [4.8 1.8 6.  3. ]\n",
            " [5.1 1.9 5.8 2.7]\n",
            " [4.  1.  6.  2.2]\n",
            " [4.5 1.5 5.4 3. ]\n",
            " [5.4 2.3 6.2 3.4]\n",
            " [4.  1.3 5.5 2.3]\n",
            " [1.7 0.4 5.4 3.9]\n",
            " [3.3 1.  5.  2.3]\n",
            " [5.3 1.9 6.4 2.7]\n",
            " [1.4 0.2 5.  3.3]\n",
            " [1.2 0.2 5.  3.2]\n",
            " [3.8 1.1 5.5 2.4]\n",
            " [5.  1.7 6.7 3. ]\n",
            " [1.5 0.1 4.9 3.1]\n",
            " [5.1 2.4 5.8 2.8]\n",
            " [1.5 0.2 5.  3.4]\n",
            " [1.6 0.6 5.  3.5]\n",
            " [4.8 1.8 5.9 3.2]\n",
            " [3.  1.1 5.1 2.5]\n",
            " [5.7 2.3 6.9 3.2]\n",
            " [5.1 1.6 6.  2.7]\n",
            " [5.6 1.4 6.1 2.6]\n",
            " [6.1 2.3 7.7 3. ]\n",
            " [4.  1.3 5.5 2.5]\n",
            " [1.4 0.2 4.4 2.9]\n",
            " [1.1 0.1 4.3 3. ]\n",
            " [5.  1.5 6.  2.2]\n",
            " [6.  1.8 7.2 3.2]\n",
            " [1.5 0.2 4.6 3.1]\n",
            " [1.4 0.3 5.1 3.5]\n",
            " [1.3 0.2 4.4 3. ]\n",
            " [4.9 1.5 6.3 2.5]\n",
            " [5.6 2.4 6.3 3.4]\n",
            " [1.4 0.3 4.6 3.4]\n",
            " [5.5 2.1 6.8 3. ]\n",
            " [6.  2.5 6.3 3.3]\n",
            " [1.3 0.2 4.7 3.2]\n",
            " [4.7 1.4 6.1 2.9]\n",
            " [4.6 1.5 6.5 2.8]\n",
            " [4.8 1.8 6.2 2.8]\n",
            " [4.7 1.4 7.  3.2]\n",
            " [5.3 2.3 6.4 3.2]\n",
            " [1.6 0.2 5.1 3.8]\n",
            " [5.4 2.1 6.9 3.1]\n",
            " [4.2 1.5 5.9 3. ]\n",
            " [5.2 2.  6.5 3. ]\n",
            " [3.5 1.  5.7 2.6]\n",
            " [3.9 1.4 5.2 2.7]\n",
            " [4.6 1.4 6.1 3. ]\n",
            " [1.3 0.3 4.5 2.3]\n",
            " [4.6 1.3 6.6 2.9]\n",
            " [4.4 1.2 5.5 2.6]\n",
            " [1.5 0.2 5.3 3.7]\n",
            " [4.1 1.3 5.6 3. ]\n",
            " [6.3 1.8 7.3 2.9]\n",
            " [5.7 2.1 6.7 3.3]\n",
            " [1.5 0.4 5.1 3.7]\n",
            " [3.3 1.  4.9 2.4]\n",
            " [5.7 2.5 6.7 3.3]\n",
            " [5.8 1.6 7.2 3. ]\n",
            " [1.5 0.1 4.9 3.1]\n",
            " [5.6 2.4 6.7 3.1]\n",
            " [1.4 0.2 4.9 3. ]\n",
            " [4.9 1.5 6.9 3.1]\n",
            " [6.1 1.9 7.4 2.8]\n",
            " [5.6 1.8 6.3 2.9]\n",
            " [4.1 1.3 5.7 2.8]\n",
            " [5.5 1.8 6.5 3. ]\n",
            " [4.4 1.3 6.3 2.3]\n",
            " [4.3 1.3 6.4 2.9]\n",
            " [4.9 2.  5.6 2.8]\n",
            " [5.1 1.8 5.9 3. ]\n",
            " [1.7 0.2 5.4 3.4]\n",
            " [4.  1.3 6.1 2.8]\n",
            " [4.5 1.7 4.9 2.5]\n",
            " [1.2 0.2 5.8 4. ]\n",
            " [4.  1.2 5.8 2.6]\n",
            " [5.9 2.1 7.1 3. ]]\n",
            "['Iris-setosa' 'Iris-setosa' 'Iris-versicolor' 'Iris-setosa' 'Iris-setosa'\n",
            " 'Iris-virginica' 'Iris-versicolor' 'Iris-setosa' 'Iris-setosa'\n",
            " 'Iris-setosa' 'Iris-virginica' 'Iris-versicolor' 'Iris-versicolor'\n",
            " 'Iris-setosa' 'Iris-setosa' 'Iris-versicolor' 'Iris-virginica'\n",
            " 'Iris-virginica' 'Iris-versicolor' 'Iris-virginica' 'Iris-versicolor'\n",
            " 'Iris-virginica' 'Iris-versicolor' 'Iris-setosa' 'Iris-virginica'\n",
            " 'Iris-versicolor' 'Iris-setosa' 'Iris-setosa' 'Iris-setosa'\n",
            " 'Iris-versicolor' 'Iris-virginica' 'Iris-setosa' 'Iris-setosa'\n",
            " 'Iris-setosa' 'Iris-versicolor' 'Iris-setosa' 'Iris-versicolor'\n",
            " 'Iris-virginica' 'Iris-setosa' 'Iris-versicolor' 'Iris-virginica'\n",
            " 'Iris-setosa' 'Iris-virginica' 'Iris-virginica' 'Iris-versicolor'\n",
            " 'Iris-versicolor' 'Iris-virginica' 'Iris-versicolor' 'Iris-setosa'\n",
            " 'Iris-versicolor' 'Iris-virginica' 'Iris-setosa' 'Iris-setosa'\n",
            " 'Iris-versicolor' 'Iris-versicolor' 'Iris-setosa' 'Iris-virginica'\n",
            " 'Iris-setosa' 'Iris-setosa' 'Iris-versicolor' 'Iris-versicolor'\n",
            " 'Iris-virginica' 'Iris-versicolor' 'Iris-virginica' 'Iris-virginica'\n",
            " 'Iris-versicolor' 'Iris-setosa' 'Iris-setosa' 'Iris-virginica'\n",
            " 'Iris-virginica' 'Iris-setosa' 'Iris-setosa' 'Iris-setosa'\n",
            " 'Iris-versicolor' 'Iris-virginica' 'Iris-setosa' 'Iris-virginica'\n",
            " 'Iris-virginica' 'Iris-setosa' 'Iris-versicolor' 'Iris-versicolor'\n",
            " 'Iris-virginica' 'Iris-versicolor' 'Iris-virginica' 'Iris-setosa'\n",
            " 'Iris-virginica' 'Iris-versicolor' 'Iris-virginica' 'Iris-versicolor'\n",
            " 'Iris-versicolor' 'Iris-versicolor' 'Iris-setosa' 'Iris-versicolor'\n",
            " 'Iris-versicolor' 'Iris-setosa' 'Iris-versicolor' 'Iris-virginica'\n",
            " 'Iris-virginica' 'Iris-setosa' 'Iris-versicolor' 'Iris-virginica'\n",
            " 'Iris-virginica' 'Iris-setosa' 'Iris-virginica' 'Iris-setosa'\n",
            " 'Iris-versicolor' 'Iris-virginica' 'Iris-virginica' 'Iris-versicolor'\n",
            " 'Iris-virginica' 'Iris-versicolor' 'Iris-versicolor' 'Iris-virginica'\n",
            " 'Iris-virginica' 'Iris-setosa' 'Iris-versicolor' 'Iris-virginica'\n",
            " 'Iris-setosa' 'Iris-versicolor' 'Iris-virginica']\n",
            "[[4.7 1.2 6.1 2.8]\n",
            " [1.7 0.3 5.7 3.8]\n",
            " [6.9 2.3 7.7 2.6]\n",
            " [4.5 1.5 6.  2.9]\n",
            " [4.8 1.4 6.8 2.8]\n",
            " [1.5 0.4 5.4 3.4]\n",
            " [3.6 1.3 5.6 2.9]\n",
            " [5.1 2.3 6.9 3.1]\n",
            " [4.5 1.5 6.2 2.2]\n",
            " [3.9 1.2 5.8 2.7]\n",
            " [5.1 2.  6.5 3.2]\n",
            " [1.4 0.1 4.8 3. ]\n",
            " [1.3 0.2 5.5 3.5]\n",
            " [1.5 0.1 4.9 3.1]\n",
            " [1.5 0.3 5.1 3.8]\n",
            " [4.7 1.6 6.3 3.3]\n",
            " [5.8 2.2 6.5 3. ]\n",
            " [3.9 1.1 5.6 2.5]\n",
            " [4.5 1.3 5.7 2.8]\n",
            " [5.6 2.2 6.4 2.8]\n",
            " [1.6 0.2 4.7 3.2]\n",
            " [4.9 1.8 6.1 3. ]\n",
            " [1.6 0.4 5.  3.4]\n",
            " [5.6 2.1 6.4 2.8]\n",
            " [6.4 2.  7.9 3.8]\n",
            " [5.2 2.3 6.7 3. ]\n",
            " [5.8 1.8 6.7 2.5]\n",
            " [5.9 2.3 6.8 3.2]\n",
            " [1.4 0.3 4.8 3. ]\n",
            " [1.6 0.2 4.8 3.1]]\n",
            "['Iris-versicolor' 'Iris-setosa' 'Iris-virginica' 'Iris-versicolor'\n",
            " 'Iris-versicolor' 'Iris-setosa' 'Iris-versicolor' 'Iris-virginica'\n",
            " 'Iris-versicolor' 'Iris-versicolor' 'Iris-virginica' 'Iris-setosa'\n",
            " 'Iris-setosa' 'Iris-setosa' 'Iris-setosa' 'Iris-versicolor'\n",
            " 'Iris-virginica' 'Iris-versicolor' 'Iris-versicolor' 'Iris-virginica'\n",
            " 'Iris-setosa' 'Iris-virginica' 'Iris-setosa' 'Iris-virginica'\n",
            " 'Iris-virginica' 'Iris-virginica' 'Iris-virginica' 'Iris-virginica'\n",
            " 'Iris-setosa' 'Iris-setosa']\n"
          ],
          "name": "stdout"
        }
      ]
    },
    {
      "cell_type": "code",
      "metadata": {
        "id": "uegx76Cc3sB7",
        "colab_type": "code",
        "colab": {}
      },
      "source": [
        "clf = svm.SVC(kernel='linear') #declaring a variablr to svm model\n"
      ],
      "execution_count": 0,
      "outputs": []
    },
    {
      "cell_type": "code",
      "metadata": {
        "id": "CRldOR764OqV",
        "colab_type": "code",
        "outputId": "9fe19df6-9272-4ce8-f893-bd163769aef4",
        "colab": {
          "base_uri": "https://localhost:8080/",
          "height": 85
        }
      },
      "source": [
        "clf.fit(X_train, y_train)#fitting data set into svm model"
      ],
      "execution_count": 11,
      "outputs": [
        {
          "output_type": "execute_result",
          "data": {
            "text/plain": [
              "SVC(C=1.0, break_ties=False, cache_size=200, class_weight=None, coef0=0.0,\n",
              "    decision_function_shape='ovr', degree=3, gamma='scale', kernel='linear',\n",
              "    max_iter=-1, probability=False, random_state=None, shrinking=True,\n",
              "    tol=0.001, verbose=False)"
            ]
          },
          "metadata": {
            "tags": []
          },
          "execution_count": 11
        }
      ]
    },
    {
      "cell_type": "code",
      "metadata": {
        "id": "_Ff_JbTT4Y2u",
        "colab_type": "code",
        "outputId": "dfc1b67c-f160-436c-c2c9-e60dcff0ba8b",
        "colab": {
          "base_uri": "https://localhost:8080/",
          "height": 170
        }
      },
      "source": [
        "y_pred = clf.predict(X_test)#now testing our model\n",
        "y_pred\n"
      ],
      "execution_count": 12,
      "outputs": [
        {
          "output_type": "execute_result",
          "data": {
            "text/plain": [
              "array(['Iris-versicolor', 'Iris-setosa', 'Iris-virginica',\n",
              "       'Iris-versicolor', 'Iris-versicolor', 'Iris-setosa',\n",
              "       'Iris-versicolor', 'Iris-virginica', 'Iris-versicolor',\n",
              "       'Iris-versicolor', 'Iris-virginica', 'Iris-setosa', 'Iris-setosa',\n",
              "       'Iris-setosa', 'Iris-setosa', 'Iris-versicolor', 'Iris-virginica',\n",
              "       'Iris-versicolor', 'Iris-versicolor', 'Iris-virginica',\n",
              "       'Iris-setosa', 'Iris-virginica', 'Iris-setosa', 'Iris-virginica',\n",
              "       'Iris-virginica', 'Iris-virginica', 'Iris-virginica',\n",
              "       'Iris-virginica', 'Iris-setosa', 'Iris-setosa'], dtype=object)"
            ]
          },
          "metadata": {
            "tags": []
          },
          "execution_count": 12
        }
      ]
    },
    {
      "cell_type": "code",
      "metadata": {
        "id": "0cngx62kfkZY",
        "colab_type": "code",
        "outputId": "c7904036-f021-4822-a575-ed9deb44503b",
        "colab": {
          "base_uri": "https://localhost:8080/",
          "height": 102
        }
      },
      "source": [
        "#confusion matrix creating\n",
        "cm = np.array(confusion_matrix(y_test, y_pred))\n",
        "df_cm = pd.DataFrame(cm, columns=np.unique(y_pred), index = np.unique(y_test))\n",
        "df_cm.index.name = 'Actual'\n",
        "df_cm.columns.name = 'Predicted'\n",
        "print(df_cm)"
      ],
      "execution_count": 13,
      "outputs": [
        {
          "output_type": "stream",
          "text": [
            "Predicted        Iris-setosa  Iris-versicolor  Iris-virginica\n",
            "Actual                                                       \n",
            "Iris-setosa               10                0               0\n",
            "Iris-versicolor            0                9               0\n",
            "Iris-virginica             0                0              11\n"
          ],
          "name": "stdout"
        }
      ]
    },
    {
      "cell_type": "code",
      "metadata": {
        "id": "NH8ww4RcU0ac",
        "colab_type": "code",
        "outputId": "022297c4-d8c1-415d-cc2b-50f5e3b4fb4c",
        "colab": {
          "base_uri": "https://localhost:8080/",
          "height": 187
        }
      },
      "source": [
        "#  classification  report of our model\n",
        "from sklearn.metrics import classification_report\n",
        "print(classification_report(y_test,y_pred))\n",
        "\n"
      ],
      "execution_count": 14,
      "outputs": [
        {
          "output_type": "stream",
          "text": [
            "                 precision    recall  f1-score   support\n",
            "\n",
            "    Iris-setosa       1.00      1.00      1.00        10\n",
            "Iris-versicolor       1.00      1.00      1.00         9\n",
            " Iris-virginica       1.00      1.00      1.00        11\n",
            "\n",
            "       accuracy                           1.00        30\n",
            "      macro avg       1.00      1.00      1.00        30\n",
            "   weighted avg       1.00      1.00      1.00        30\n",
            "\n"
          ],
          "name": "stdout"
        }
      ]
    },
    {
      "cell_type": "code",
      "metadata": {
        "id": "xLPpXL7EhF3o",
        "colab_type": "code",
        "outputId": "debb5750-401b-4144-b6a6-6cf87ceb84ad",
        "colab": {
          "base_uri": "https://localhost:8080/",
          "height": 34
        }
      },
      "source": [
        "#calculation of accuracy of our model\n",
        "print(\"Accuracy:\",metrics.accuracy_score(y_test, y_pred))"
      ],
      "execution_count": 15,
      "outputs": [
        {
          "output_type": "stream",
          "text": [
            "Accuracy: 1.0\n"
          ],
          "name": "stdout"
        }
      ]
    },
    {
      "cell_type": "code",
      "metadata": {
        "id": "aGFX_3F1h20U",
        "colab_type": "code",
        "outputId": "d472ad14-4de8-4b70-90fc-0b0cbc30d699",
        "colab": {
          "base_uri": "https://localhost:8080/",
          "height": 34
        }
      },
      "source": [
        "#calculation of precision of  our model\n",
        "print(\"Precision:\",metrics.precision_score(y_test, y_pred,average=\"macro\"))"
      ],
      "execution_count": 16,
      "outputs": [
        {
          "output_type": "stream",
          "text": [
            "Precision: 1.0\n"
          ],
          "name": "stdout"
        }
      ]
    }
  ]
}